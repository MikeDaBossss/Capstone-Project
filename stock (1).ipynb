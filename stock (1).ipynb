{
  "nbformat": 4,
  "nbformat_minor": 0,
  "metadata": {
    "colab": {
      "name": "stock.ipynb",
      "provenance": [],
      "collapsed_sections": []
    },
    "kernelspec": {
      "name": "python3",
      "display_name": "Python 3"
    },
    "accelerator": "GPU"
  },
  "cells": [
    {
      "cell_type": "code",
      "metadata": {
        "id": "vi14ZBGB1lXY",
        "colab_type": "code",
        "outputId": "ec54f805-4211-4707-9d2b-fe8ed596d835",
        "colab": {
          "resources": {
            "http://localhost:8080/nbextensions/google.colab/files.js": {
              "data": "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",
              "ok": true,
              "headers": [
                [
                  "content-type",
                  "application/javascript"
                ]
              ],
              "status": 200,
              "status_text": ""
            }
          },
          "base_uri": "https://localhost:8080/",
          "height": 75
        }
      },
      "source": [
        "from google.colab import files\n",
        "\n",
        "uploaded = files.upload()"
      ],
      "execution_count": 2,
      "outputs": [
        {
          "output_type": "display_data",
          "data": {
            "text/html": [
              "\n",
              "     <input type=\"file\" id=\"files-d7bb85ef-143e-4e1f-bc6d-8b1a1f9b20c3\" name=\"files[]\" multiple disabled />\n",
              "     <output id=\"result-d7bb85ef-143e-4e1f-bc6d-8b1a1f9b20c3\">\n",
              "      Upload widget is only available when the cell has been executed in the\n",
              "      current browser session. Please rerun this cell to enable.\n",
              "      </output>\n",
              "      <script src=\"/nbextensions/google.colab/files.js\"></script> "
            ],
            "text/plain": [
              "<IPython.core.display.HTML object>"
            ]
          },
          "metadata": {
            "tags": []
          }
        },
        {
          "output_type": "stream",
          "text": [
            "Saving sp_500_stocks.xlsx to sp_500_stocks.xlsx\n"
          ],
          "name": "stdout"
        }
      ]
    },
    {
      "cell_type": "code",
      "metadata": {
        "id": "NTTRl5bVqj-I",
        "colab_type": "code",
        "colab": {}
      },
      "source": [
        ""
      ],
      "execution_count": 0,
      "outputs": []
    },
    {
      "cell_type": "markdown",
      "metadata": {
        "id": "3D8xuMeJqk_z",
        "colab_type": "text"
      },
      "source": [
        "Abstract \n",
        "\n",
        "I am trying to find if there are ways to get better returns than the SP 500 using the SP 500 stocks over a time period from 2009 to 2019. Better returns means making more money over the time period. I am not accounting for volatility factors or economic factors that may make some strategies work better or worse. I am using a few different methods that I found online. The first is a simple moving average strategy. This strategy says that for example when the 50 day moving average ( the average of the last 50 days of prices) is higher than the 200 day moving average that I should buy the stock or short the stock and hope that it goes down. I could sell the stock when it hits a certain price target such as 1% or I could sell after a certain time period such as 1 week or I could sell when the 50 day moving average crosses the 200 day moving average again. There are lots of common simple moving averages such as 5 day, 10 day, 20 day, 30 day, 50 day, 100 day, and 200 day averages. The second strategy that I implemented was a momentum strategy. Momentum is how much of a favorable characteristic does a company have if I look back a certain time period. I decided to track the momentum of the last 6 months of stock price gains. The companies that have the most gains in the last 6 months in their stock price I would buy the top 10% of those companies. Then I would sell at the end of 30 days and buy the stocks that have the most stock price gain. I could switch out the time period for the momentum, the hold period, adding in short selling, and looking at different definitions of momentum. My last method that I implemented was a supervised learning method using random forests. I would use a random forest to predict whether stocks would go up a certain percentage in a certain time period. Then using machine learning I could try different time periods and different percentages to see which ones the random forest can classify most accurately. \n",
        "\n",
        "The results of my simple moving average implementation were not very good. I did not find a method that got better returns than the SP 500 in the time period. I believe that there are some moving average methods that would beat the SP 500 reliably, but I was not able to run the calculations as it was too big for the computer that I have. I know that there are swing traders who trade stocks over certain small time periods such as 2 days to 1 week and make very good returns much higher than the SP 500 using similar methods. It would be interesting to look further into the percentages of having a certain stock move one way given a certain moving average cross over. \n",
        "\n",
        "The results of my second strategy using momentum worked very well. I was able to find a method that got much better results than the SP 500. The SP 500 returned around 12% over this time period but my momentum strategy returned 35%. I believe that there might be an even better momentum strategy if I combined certain momentum indicators with other indicators to filter out stocks that might not have good returns. I would say that momentum seems to be a good strategy just because it makes a lot of sense that the best returning stocks will continue to have good returns.\n",
        "\n",
        "The final strategy that I tried was using a random forest model to classify stocks returns over a 1 month time period. I did not get very good results using this method. I was only able to get returns a little bit worse than the SP 500. I of course did not have a lot of chances at finding the right parameters since that would take a lot of computing power that I do not have. I believe that there would be a way that could get superior results than the SP 500 if I changed the time period, random forest parameters,return percentages, and adding in more features for the model to train on such as historical financial momentum and historical returns.\n"
      ]
    },
    {
      "cell_type": "markdown",
      "metadata": {
        "id": "VH_X4_Fhq5xf",
        "colab_type": "text"
      },
      "source": [
        "I imported a list of S&P 500 stocks."
      ]
    },
    {
      "cell_type": "code",
      "metadata": {
        "id": "KfWRW7y82M3F",
        "colab_type": "code",
        "outputId": "1d5a6710-5b9f-4469-c4f9-b48bb6dad2d0",
        "colab": {
          "base_uri": "https://localhost:8080/",
          "height": 35
        }
      },
      "source": [
        "import pandas as pd\n",
        "print(len(pd.read_excel('sp_500_stocks.xlsx')))"
      ],
      "execution_count": 4,
      "outputs": [
        {
          "output_type": "stream",
          "text": [
            "508\n"
          ],
          "name": "stdout"
        }
      ]
    },
    {
      "cell_type": "code",
      "metadata": {
        "id": "lq5g1fJq3JXm",
        "colab_type": "code",
        "outputId": "e7f6e8a6-3797-4fad-ff2c-c4208491062b",
        "colab": {
          "base_uri": "https://localhost:8080/",
          "height": 70
        }
      },
      "source": [
        "stocklist = pd.read_excel('sp_500_stocks.xlsx')\n",
        "stocklist.columns"
      ],
      "execution_count": 5,
      "outputs": [
        {
          "output_type": "execute_result",
          "data": {
            "text/plain": [
              "Index(['Ticker', 'Name', 'Price', 'Dividend Yield', 'Market Cap ($M)',\n",
              "       'P/E Ratio', 'Payout Ratio', 'Beta'],\n",
              "      dtype='object')"
            ]
          },
          "metadata": {
            "tags": []
          },
          "execution_count": 5
        }
      ]
    },
    {
      "cell_type": "markdown",
      "metadata": {
        "id": "Ct6bGXW8q_sx",
        "colab_type": "text"
      },
      "source": [
        "Here is how I used an API to download the stock information. I basically made a call to each of the apis and then used built in JSON libraries to load it into pandas dataframes and then saved those so I don't have to do api calls each time."
      ]
    },
    {
      "cell_type": "code",
      "metadata": {
        "id": "E36OnZhiq1w-",
        "colab_type": "code",
        "colab": {}
      },
      "source": [
        "Stockprices = pd.DataFrame()\n",
        "counter = 0\n",
        "#for loop through all the stock tickers\n",
        "for i in stocklist['Ticker']:\n",
        "\tstockprice = requests.get('https://financialmodelingprep.com/api/v3/historical-price-full/'+str(i)+'?serietype=line')\n",
        " \tdata = json.loads(stockprice.text)\n",
        " \ttry:\n",
        " \t\tpddata = json_normalize(data['historical'])\n",
        " \texcept:\n",
        " \t\tcontinue\n",
        " \tpddata['symbol'] = data['symbol']\n",
        " \tStockprices = pd.concat([Stockprices,pddata])\n",
        " \tcounter += 1\n",
        " \tprint(counter,\" \",pddata['symbol'][0])\n",
        " Stockprices.to_csv(r'''C:\\Users\\Michael\\Desktop\\Accounting-Learning\\flatiron\\finalproject\\stockprices.csv''')\n",
        " print(financialStatements.shape)\n",
        " #this is getting the financial ratios\n",
        "#https://financialmodelingprep.com/api/v3/financial-ratios/AAPL\n",
        " financialRatios = pd.DataFrame()\n",
        " counter = 0\n",
        " #for loop through all the stock tickers\n",
        " for i in stocklist['Ticker']:\n",
        " \tfinancialRatio = requests.get('https://financialmodelingprep.com/api/v3/financial-ratios/'+str(i))\n",
        " \tdata = json.loads(financialRatio.text)\n",
        " \ttry:\n",
        " \t\tpddata = json_normalize(data['ratios'])\n",
        " \texcept:\n",
        " \t\tcontinue\n",
        " \tpddata['symbol'] = data['symbol']\n",
        " \tfinancialRatios = pd.concat([financialRatios,pddata])\n",
        " \tcounter += 1\n",
        " \tprint(counter,\" \",pddata['symbol'][0])\n",
        " financialRatios.to_csv(r'''C:\\Users\\Michael\\Desktop\\Accounting-Learning\\flatiron\\finalproject\\financialratios.csv''')\n",
        " print(financialRatios.shape)\n",
        "#this is the company profiles\n",
        " companyProfile = pd.DataFrame()\n",
        " counter = 0\n",
        " #for loop through all the stock tickers\n",
        " for i in stocklist['Ticker']:\n",
        " \tcompanyProfiles = requests.get('https://financialmodelingprep.com/api/v3/company/profile/'+str(i))\n",
        " \tdata = json.loads(companyProfiles.text)\n",
        " \ttry:\n",
        " \t\tpddata = json_normalize(data['profile'])\n",
        " \texcept:\n",
        " \t\tcontinue\n",
        " \tpddata['symbol'] = data['symbol']\n",
        " \tcompanyProfile = pd.concat([companyProfile,pddata])\n",
        " \tcounter += 1\n",
        " \tprint(counter,\" \",pddata['symbol'][0])\n",
        " companyProfile.to_csv(r'''C:\\Users\\Michael\\Desktop\\Accounting-Learning\\flatiron\\finalproject\\companyProfile.csv''')\n",
        " print(companyProfile.shape)\n"
      ],
      "execution_count": 0,
      "outputs": []
    },
    {
      "cell_type": "markdown",
      "metadata": {
        "id": "Yc4KFGaXrWNv",
        "colab_type": "text"
      },
      "source": [
        "Importing my already saved files."
      ]
    },
    {
      "cell_type": "code",
      "metadata": {
        "id": "tFTxTB-BmxRu",
        "colab_type": "code",
        "colab": {
          "base_uri": "https://localhost:8080/",
          "height": 126
        },
        "outputId": "036b3866-e1f7-4634-fb3e-bbaa0aef292d"
      },
      "source": [
        "stockdata = pd.read_csv('/content/drive/My Drive/stockdata.csv')\n",
        "#print(len(data))\n",
        "companies = pd.read_csv('/content/drive/My Drive/companiesprofile.csv')\n",
        "#print(data.shape)\n",
        "ratios = pd.read_csv('/content/drive/My Drive/financialratios.csv')\n",
        "#print(data.shape)\n",
        "finances =pd.read_csv('/content/drive/My Drive/financials.csv')\n",
        "finances.shape"
      ],
      "execution_count": 12,
      "outputs": [
        {
          "output_type": "stream",
          "text": [
            "/usr/local/lib/python3.6/dist-packages/IPython/core/interactiveshell.py:2718: DtypeWarning: Columns (9,59,65,81,97,185,227,231,247,289,353,357,383,385,395,449,459,489,501,537,539,571,591,667,703,705,765,773,777,851,881,895,901,977,1001,1005) have mixed types. Specify dtype option on import or set low_memory=False.\n",
            "  interactivity=interactivity, compiler=compiler, result=result)\n",
            "/usr/local/lib/python3.6/dist-packages/IPython/core/interactiveshell.py:2718: DtypeWarning: Columns (958,990,1057,1089,1321,1353,2212,2244,3103,3135,3796,3828,3862,3894,4126,4158,4786,4818,5017,5049,5611,5643,6370,6402,6403,6435,6469,6501,6535,6567,7393,7425,7558,7590,8053,8085,8251,8283,8845,8877,8878,8910,9439,9471,9736,9768,11584,11616,12706,12738,12772,12804,13993,14025,14719,14751,14818,14850,16072,16104) have mixed types. Specify dtype option on import or set low_memory=False.\n",
            "  interactivity=interactivity, compiler=compiler, result=result)\n"
          ],
          "name": "stderr"
        },
        {
          "output_type": "execute_result",
          "data": {
            "text/plain": [
              "(44, 16567)"
            ]
          },
          "metadata": {
            "tags": []
          },
          "execution_count": 12
        }
      ]
    },
    {
      "cell_type": "code",
      "metadata": {
        "id": "Ah1CVkasvw8d",
        "colab_type": "code",
        "outputId": "8d042d37-12c1-41e8-8be4-b018c6e624e9",
        "colab": {
          "base_uri": "https://localhost:8080/",
          "height": 126
        }
      },
      "source": [
        "from google.colab import drive\n",
        "drive.mount('drive')"
      ],
      "execution_count": 6,
      "outputs": [
        {
          "output_type": "stream",
          "text": [
            "Go to this URL in a browser: https://accounts.google.com/o/oauth2/auth?client_id=947318989803-6bn6qk8qdgf4n4g3pfee6491hc0brc4i.apps.googleusercontent.com&redirect_uri=urn%3aietf%3awg%3aoauth%3a2.0%3aoob&response_type=code&scope=email%20https%3a%2f%2fwww.googleapis.com%2fauth%2fdocs.test%20https%3a%2f%2fwww.googleapis.com%2fauth%2fdrive%20https%3a%2f%2fwww.googleapis.com%2fauth%2fdrive.photos.readonly%20https%3a%2f%2fwww.googleapis.com%2fauth%2fpeopleapi.readonly\n",
            "\n",
            "Enter your authorization code:\n",
            "··········\n",
            "Mounted at drive\n"
          ],
          "name": "stdout"
        }
      ]
    },
    {
      "cell_type": "markdown",
      "metadata": {
        "id": "zt7GvJUOreg_",
        "colab_type": "text"
      },
      "source": [
        "Here is the moving average function. It calculated the average stock price for a stock given a certain day range."
      ]
    },
    {
      "cell_type": "code",
      "metadata": {
        "id": "fMn0CubzH9j_",
        "colab_type": "code",
        "colab": {}
      },
      "source": [
        "def moving_average(days,data,date):\n",
        "  #convert datetime object to string\n",
        "  date = str(date)\n",
        "  if len(data[data['date'] < date][((days+1)*-1):]['close']) < days:\n",
        "    return False\n",
        "  return sum(data[data['date'] < date][(days*-1):]['close'])/days"
      ],
      "execution_count": 0,
      "outputs": []
    },
    {
      "cell_type": "code",
      "metadata": {
        "id": "snBMZQZNM2vQ",
        "colab_type": "code",
        "colab": {}
      },
      "source": [
        "from datetime import datetime, timedelta"
      ],
      "execution_count": 0,
      "outputs": []
    },
    {
      "cell_type": "markdown",
      "metadata": {
        "id": "zWwO57Wzrvkz",
        "colab_type": "text"
      },
      "source": [
        "Here is the find buys and shorts function. It goes through a certain stock and finds all the buys and shorts given certain moving averages. When a moving average crosses another it is either a buy or a short and then it places a stop loss and a price target for when to sell."
      ]
    },
    {
      "cell_type": "code",
      "metadata": {
        "id": "ag0IICUhIEnX",
        "colab_type": "code",
        "colab": {}
      },
      "source": [
        "from datetime import datetime,timedelta\n",
        "def find_buys_shorts(data,ma1=5,ma2=20,buy='Long',limit=1.01,stop=.99):\n",
        "  tenyears = data\n",
        "  buys = []\n",
        "  shorts = []\n",
        "  for i in tenyears.index:\n",
        "    #print(tenyears.head())\n",
        "    dat = tenyears.loc[int(i),'date']\n",
        "    #print(dat)\n",
        "    date_format = '%Y-%m-%d'\n",
        "    #print('test2')\n",
        "    dat = datetime.strptime(dat,date_format)\n",
        "    price = tenyears.loc[i]['close']\n",
        "    twodaysprevious = str(datetime.strftime(dat - timedelta(2), '%Y-%m-%d')[:10])\n",
        "    onedayprevious = str(datetime.strftime(dat - timedelta(1), '%Y-%m-%d')[:10])\n",
        "    #if larger moving average can be calculated for 2 days previous MA\n",
        "    if moving_average(ma2,tenyears,twodaysprevious):\n",
        "      #find if 2 day previous  ma1 < ma2\n",
        "      if moving_average(ma1,tenyears,twodaysprevious) < moving_average(ma2,tenyears,twodaysprevious):\n",
        "          #find if 1 day previous ma1 crossed over ma2\n",
        "        if moving_average(ma1,tenyears,onedayprevious) > moving_average(ma2,tenyears,onedayprevious):\n",
        "            #buy\n",
        "            buys.append([price,500,price*limit,str(dat)[:10]])\n",
        "      else:\n",
        "        if moving_average(ma1,tenyears,onedayprevious) < moving_average(ma2,tenyears,onedayprevious):\n",
        "            #short\n",
        "            shorts.append([price,500,price*stop,str(dat)[:10]])\n",
        "  if buy == 'Long':\n",
        "    return buys\n",
        "  if buy == 'Short':\n",
        "    return shorts\n",
        "  if buy == 'Both':\n",
        "    return buys,shorts"
      ],
      "execution_count": 0,
      "outputs": []
    },
    {
      "cell_type": "markdown",
      "metadata": {
        "id": "hxmmoCMbsKj2",
        "colab_type": "text"
      },
      "source": [
        "This gets the last 10 years of stock data for a certain stock. I did not have computing power to do all the stocks or all the moving averages, but I would have easily been able to. The format needed is 'date' and then add to that string the stock ticker symbol. Do the same for the close. Then once those are taken from the stockdata convert columns back to 'date' and \n",
        "close."
      ]
    },
    {
      "cell_type": "code",
      "metadata": {
        "id": "gRPmT0NeYlh9",
        "colab_type": "code",
        "colab": {
          "base_uri": "https://localhost:8080/",
          "height": 55
        },
        "outputId": "d520a8ca-4037-458b-b190-9ab1597c9de2"
      },
      "source": [
        "tenyears = pd.concat([stockdata['dateA'],stockdata['closeA']],axis=1)\n",
        "tenyears.columns = ['date','close']\n",
        "tenyears"
      ],
      "execution_count": 13,
      "outputs": [
        {
          "output_type": "stream",
          "text": [
            "[[32.41, 500, 32.7341, '2013-07-10'], [33.06, 500, 33.3906, '2013-08-09'], [36.55, 500, 36.915499999999994, '2013-11-01'], [39.52, 500, 39.915200000000006, '2014-02-14'], [39.36, 500, 39.7536, '2014-05-07']]\n"
          ],
          "name": "stdout"
        }
      ]
    },
    {
      "cell_type": "markdown",
      "metadata": {
        "id": "NKtRxC3iswiX",
        "colab_type": "text"
      },
      "source": [
        "This is the selling function where it will find when to sell a stock, record the profit, record annual returns, and other useful things. There are ways to tweak the selling function to be optimized such as parameter searching for the best max_wait time, and the starting amount.\n"
      ]
    },
    {
      "cell_type": "code",
      "metadata": {
        "id": "_qyp8q9kXn9a",
        "colab_type": "code",
        "colab": {}
      },
      "source": [
        "#find how much money can be made using the buys and shorts where the moving average has crossed the lines\n",
        "\n",
        "\n",
        "#1. have a starting amount of money\n",
        "#2. deduct as many shares as possible with commissions until 10 buys are in the buys pile\n",
        "#3. go through the list until all the buys are gone \n",
        "def selling(buys,data,starting_amount,comission,max_wait):\n",
        "  max_buy = starting_amount / 10\n",
        "  commission_fee = comission\n",
        "  commissions = 0\n",
        "  starting_amount = starting_amount\n",
        "  buys_total = 0 \n",
        "  actual_buys = []\n",
        "  things_to_delete = []\n",
        "  profit = 0\n",
        "  profit_max_wait = 0\n",
        "  unique_id = 0\n",
        "  investing_days_total = 0\n",
        "  days_to_get_return = []\n",
        "  #look for if current day has any sells from previous buys \n",
        "  for i in data.index:\n",
        "    #get the current price\n",
        "    current_price = data.loc[i]['close']\n",
        "    #get the current day\n",
        "    current_day = str(data.loc[i]['date'])\n",
        "    for j,t in enumerate(actual_buys):\n",
        "      if len(actual_buys) == 0 :\n",
        "        continue\n",
        "      #if the order is old it might be better to take a loss on the money and then reinvest a few times instead of waiting\n",
        "      current_day_datetime = datetime.strptime(current_day,'%Y-%m-%d')\n",
        "      buy_date_datetime = datetime.strptime(t[3],'%Y-%m-%d')\n",
        "      difference = current_day_datetime - buy_date_datetime\n",
        "      if difference.days > max_wait:\n",
        "        #sell the buy \n",
        "        starting_amount += current_price * t[1]\n",
        "        #add days to investing days total \n",
        "        investing_days_total += difference.days\n",
        "        days_to_get_return.append(difference.days)\n",
        "        #add to things_to_delete list\n",
        "        #print(starting_amount,'after selling Max Wait',current_day,current_price,t[4])\n",
        "        profit_max_wait += (t[1]*(current_price-t[0])-commission_fee)\n",
        "        things_to_delete.append(j)\n",
        "        #remove the buy from the actual buys list\n",
        "        #print(things_to_delete)\n",
        "        #print(actual_buys)\n",
        "        actual_buys[:] = [x for i,x in enumerate(actual_buys) if i not in things_to_delete]\n",
        "        things_to_delete = []\n",
        "        continue\n",
        "      #if the limit price has been met\n",
        "      if t[2] < current_price :\n",
        "        #sell the buy \n",
        "        starting_amount += current_price * t[1]\n",
        "        #add days to investing days total \n",
        "        current_day_datetime = datetime.strptime(current_day,'%Y-%m-%d')\n",
        "        buy_date_datetime = datetime.strptime(t[3],'%Y-%m-%d')\n",
        "        difference = current_day_datetime - buy_date_datetime\n",
        "        investing_days_total += difference.days\n",
        "        days_to_get_return.append(difference.days)\n",
        "        #print(starting_amount,'after selling',current_day,current_price,t[4])\n",
        "        profit += (t[1]*(current_price-t[0])-commission_fee)\n",
        "        #add to things_to_delete list\n",
        "        things_to_delete.append(j)\n",
        "        #remove the buy from the actual buys list\n",
        "        #print(things_to_delete)\n",
        "        #print(actual_buys)\n",
        "        actual_buys[:] = [x for i,x in enumerate(actual_buys) if i not in things_to_delete]\n",
        "        things_to_delete = []\n",
        "    #see if current day has a buy order\n",
        "    for l in buys:\n",
        "      #if current day is a buy day\n",
        "      if l[3] == current_day :\n",
        "        #figure out how many shares to purchase\n",
        "        #buy 1/10th the total amount of money\n",
        "        shares_amount = max_buy // l[0]\n",
        "        #convert that to the quantity number in the order\n",
        "        l[1] = shares_amount\n",
        "        #put buy order into actual buys\n",
        "        #add unique id\n",
        "        l = l + [unique_id]\n",
        "        #iterate unique_id\n",
        "        unique_id += 1\n",
        "        actual_buys.append(l)\n",
        "        #deduct money from starting amount plus commission\n",
        "        starting_amount -= shares_amount * l[0]\n",
        "        starting_amount -= commission_fee\n",
        "        commissions += commission_fee\n",
        "        #print(starting_amount,'after buying',current_day,l[0],l[4])\n",
        "  return starting_amount,investing_days_total,profit_max_wait,profit\n"
      ],
      "execution_count": 0,
      "outputs": []
    },
    {
      "cell_type": "markdown",
      "metadata": {
        "id": "VgxwSofgtVYu",
        "colab_type": "text"
      },
      "source": [
        "The results of going 'Long' with $10,000, a $4.5 commission fee per trade, and only holding stocks a maximum of 1 day after the cross over of the 5 day moving average above the 20 day moving average."
      ]
    },
    {
      "cell_type": "code",
      "metadata": {
        "id": "beEoNynQc8C5",
        "colab_type": "code",
        "colab": {
          "base_uri": "https://localhost:8080/",
          "height": 35
        },
        "outputId": "f8441fd7-a935-448c-d1ab-9786e08cec15"
      },
      "source": [
        "selling(find_buys_shorts(tenyears,buy='Long'),tenyears,starting_amount=10000,comission=4.5,max_wait=1)"
      ],
      "execution_count": 42,
      "outputs": [
        {
          "output_type": "execute_result",
          "data": {
            "text/plain": [
              "(9548.759999999998, 151, -514.8200000000002, 63.58000000000007)"
            ]
          },
          "metadata": {
            "tags": []
          },
          "execution_count": 42
        }
      ]
    },
    {
      "cell_type": "code",
      "metadata": {
        "id": "FKsqYhdUgbdM",
        "colab_type": "code",
        "colab": {}
      },
      "source": [
        "import matplotlib.pyplot as plt\n",
        "%matplotlib inline"
      ],
      "execution_count": 0,
      "outputs": []
    },
    {
      "cell_type": "code",
      "metadata": {
        "id": "I_cgM8Atg6aW",
        "colab_type": "code",
        "colab": {
          "base_uri": "https://localhost:8080/",
          "height": 281
        },
        "outputId": "d858d93d-4f50-4d97-feeb-2745b1884619"
      },
      "source": [
        "fig = plt.figure()\n",
        "ax = plt.subplot(111)\n",
        "ax.bar([1], [1-(9548/10000)], width=.2, color='r')\n",
        "ax.set_title('SMA 5 day 20 day long A 10 years')\n",
        "ax.set_ylabel('Percent Loss')\n",
        "plt.savefig('SMA.png')"
      ],
      "execution_count": 24,
      "outputs": [
        {
          "output_type": "display_data",
          "data": {
            "image/png": "[encoded data removed]",
            "text/plain": [
              "<Figure size 432x288 with 1 Axes>"
            ]
          },
          "metadata": {
            "tags": []
          }
        }
      ]
    },
    {
      "cell_type": "markdown",
      "metadata": {
        "id": "zXfAtOlltyDe",
        "colab_type": "text"
      },
      "source": [
        "A parameter search that I wanted to try, but I did not have the computing resources."
      ]
    },
    {
      "cell_type": "code",
      "metadata": {
        "id": "7ZFmHP3K1KC4",
        "colab_type": "code",
        "colab": {}
      },
      "source": [
        "best = []\n",
        "for i in range(1,100,5):\n",
        "  for h in [5,10,20,30,50,100,200]:\n",
        "    for y in [5,10,20,30,50,100,200]:\n",
        "      best.append([selling(find_buys_shorts(tenyears,ma1=h,ma2=y,buy='Long'),tenyears,starting_amount=10000,comission=4.5,max_wait=i),i,h])"
      ],
      "execution_count": 0,
      "outputs": []
    },
    {
      "cell_type": "code",
      "metadata": {
        "id": "lJquqwlbP51u",
        "colab_type": "code",
        "colab": {}
      },
      "source": [
        "best"
      ],
      "execution_count": 0,
      "outputs": []
    },
    {
      "cell_type": "code",
      "metadata": {
        "id": "Lm-7OpAZ7h9I",
        "colab_type": "code",
        "colab": {}
      },
      "source": [
        "best[0][0][1]"
      ],
      "execution_count": 0,
      "outputs": []
    },
    {
      "cell_type": "markdown",
      "metadata": {
        "id": "Wbj8IILft5HD",
        "colab_type": "text"
      },
      "source": [
        "Filtering the parameter search and finding the best one."
      ]
    },
    {
      "cell_type": "code",
      "metadata": {
        "id": "iVoi7mhA6kb6",
        "colab_type": "code",
        "colab": {}
      },
      "source": [
        "bt = []\n",
        "for t,i in enumerate(best):\n",
        "  try:\n",
        "    if ((i[0][0]-10000)/i[0][1]) > 0.25:\n",
        "      bt.append([((i[0][0]-10000)/i[0][1]),t,i])\n",
        "      ind = t\n",
        "  except:\n",
        "    continue\n",
        "from operator import itemgetter\n",
        "import operator\n",
        "print(bt[0][0])\n",
        "print(len(bt))\n",
        "bt.sort(key = operator.itemgetter(0,0),reverse=True)\n",
        "bt[:30]\n"
      ],
      "execution_count": 0,
      "outputs": []
    },
    {
      "cell_type": "code",
      "metadata": {
        "id": "YE3C86zt1kSW",
        "colab_type": "code",
        "outputId": "77818d15-8b4a-46f8-ffd0-436dbb5955f5",
        "colab": {
          "base_uri": "https://localhost:8080/",
          "height": 126
        }
      },
      "source": [
        "from google.colab import drive\n",
        "drive.mount('/content/drive')"
      ],
      "execution_count": 10,
      "outputs": [
        {
          "output_type": "stream",
          "text": [
            "Go to this URL in a browser: https://accounts.google.com/o/oauth2/auth?client_id=947318989803-6bn6qk8qdgf4n4g3pfee6491hc0brc4i.apps.googleusercontent.com&redirect_uri=urn%3aietf%3awg%3aoauth%3a2.0%3aoob&response_type=code&scope=email%20https%3a%2f%2fwww.googleapis.com%2fauth%2fdocs.test%20https%3a%2f%2fwww.googleapis.com%2fauth%2fdrive%20https%3a%2f%2fwww.googleapis.com%2fauth%2fdrive.photos.readonly%20https%3a%2f%2fwww.googleapis.com%2fauth%2fpeopleapi.readonly\n",
            "\n",
            "Enter your authorization code:\n",
            "··········\n",
            "Mounted at /content/drive\n"
          ],
          "name": "stdout"
        }
      ]
    },
    {
      "cell_type": "code",
      "metadata": {
        "id": "JdPxVAZ9OBQ1",
        "colab_type": "code",
        "colab": {}
      },
      "source": [
        "from datetime import datetime,timedelta"
      ],
      "execution_count": 0,
      "outputs": []
    },
    {
      "cell_type": "markdown",
      "metadata": {
        "id": "VZmNPOMfuE_K",
        "colab_type": "text"
      },
      "source": [
        "My second strategy using momentum and rebalancing the portfolio once per 1.5 months."
      ]
    },
    {
      "cell_type": "code",
      "metadata": {
        "id": "Kp51KOhnhVGb",
        "colab_type": "code",
        "colab": {}
      },
      "source": [
        "#calculate once per month the yearly return: if it is higher than 4% buy and hold for  a month\n",
        "def momentum_rotate(stock_data,hold_period,money,tickers):\n",
        "  annual_return = 0\n",
        "  money = money\n",
        "  each_month = []\n",
        "  closest = []\n",
        "  closest_index = []\n",
        "  buys = []\n",
        "  tempbuys = []\n",
        "  #this is the good time series index counting by 1 month\n",
        "  for index in list(stock_data['dateA'])[::30]:\n",
        "    tempbuys = []\n",
        "    if len(buys) > 0:\n",
        "      #if there are any buys previosly i need to sell off at current sales price\n",
        "      #find the stock ticker\n",
        "      #find a date -2 from index date to +2 index date\n",
        "      for buy in buys:\n",
        "        index_datetime = datetime.strptime(index,'%Y-%m-%d')\n",
        "        current_buy_price = pd.DataFrame(stock_data['date'+buy[2]],columns=['date'+buy[2]])\n",
        "        twodaysbeforeindex_datetime = str(datetime.strftime(index_datetime - timedelta(2), '%Y-%m-%d')[:10])\n",
        "        twodaysafterindex_datetime = str(datetime.strftime(index_datetime + timedelta(2), '%Y-%m-%d')[:10])\n",
        "        time = current_buy_price[(current_buy_price['date'+buy[2]] > twodaysbeforeindex_datetime) & \n",
        "                                (current_buy_price['date'+buy[2]] < twodaysafterindex_datetime) ]\n",
        "        #print(index,buy)\n",
        "        try:\n",
        "          current_price = (stock_data.loc[time.index[-1]]['close'+buy[2]] + stock_data.loc[time.index[0]]['close'+buy[2]])/2\n",
        "        except:\n",
        "          continue\n",
        "\n",
        "      #find the current date - using index\n",
        "        #print('money before selling {}'.format(money))\n",
        "        money += (buy[0] * current_price)\n",
        "        #print('profit is {}'.format(buy[0] * (current_price - buy[1])))\n",
        "        #print('money after selling {}'.format(money))\n",
        "      #print('profit is {}'.format((stock_data.loc[index]['close'] - buys[0][1]) * buys[0][0]))\n",
        "      #print('percentage is {}'.format(((stock_data.loc[index]['close'] - buys[0][1])/buys[0][1])*100))\n",
        "      buys = []\n",
        "    #go through each stock ticker and see if there is enough data 1 years worth\n",
        "    for ticker in tickers:\n",
        "      #print(ticker)\n",
        "      #make a new dataframe querying the ticker for 1 year previous to the index\n",
        "      #previous_year = pd.DataFrame(stock_data[stock_data['date'+ticker] < index])\n",
        "      try:\n",
        "        specific_stock = pd.DataFrame(stock_data['date'+ticker],columns=['date'+ticker])\n",
        "      except:\n",
        "        continue\n",
        "      specific_close_prices = pd.DataFrame(stock_data['close'+ticker],columns = ['close'+ticker])\n",
        "      #print(specific_close_prices.head())\n",
        "      #print(specific_stock['dateA'].head())\n",
        "      #query = specific_stock[ > index]\n",
        "      #print(query.head())\n",
        "      #see if previous_year has 1 years worth of days or not\n",
        "      current_day = index\n",
        "      #print('index day is {}'.format(index))\n",
        "      #print('first day in specific stock {}'.format(specific_stock.iloc[0]))\n",
        "      first_day = specific_stock.iloc[0][0]\n",
        "      current_day_datetime = datetime.strptime(current_day,'%Y-%m-%d')\n",
        "      first_day_datetime = datetime.strptime(first_day,'%Y-%m-%d')\n",
        "      difference = current_day_datetime - first_day_datetime\n",
        "      if difference.days > 180:\n",
        "        #print('made it',index,ticker)\n",
        "        #print(specific_close_prices.head())\n",
        "        #find the annual return percentage\n",
        "        #find the closest date to 1 year time difference\n",
        "        index_datetime = datetime.strptime(index,'%Y-%m-%d')\n",
        "        oneyearprevious = str(datetime.strftime(index_datetime - timedelta(180), '%Y-%m-%d')[:10])\n",
        "        #print(oneyearprevious)\n",
        "        #print(type(oneyearprevious))\n",
        "        #print(type(index))\n",
        "        #the one year time period roughly\n",
        "        time = specific_stock[(specific_stock['date'+ticker] > oneyearprevious) & \n",
        "                              (specific_stock['date'+ticker] < index) ]\n",
        "        if len(time) < 5:\n",
        "          continue\n",
        "        #print(time.head())\n",
        "        #print(time.tail())\n",
        "        #print(time.index[-1])\n",
        "        #print(type(float(stock_data.loc[index]['close'])))\n",
        "        #print(type(float(stock_data.loc[closest[0][1]]['close'] ))) \n",
        "        #print(len(time),ticker,index)      \n",
        "        annual_return = (float(specific_close_prices.loc[time.index[-1]]['close'+ticker]) - float(specific_close_prices.loc[time.index[0]]['close'+ticker]) )/ float(specific_close_prices.loc[time.index[0]]['close'+ticker])\n",
        "        #print(annual_return)\n",
        "        #add annual return ticker and price to best buys\n",
        "        tempbuys.append([annual_return,ticker,specific_close_prices.loc[time.index[-1]]['close'+ticker]])\n",
        "        #sort the buys to find top 10 buys \n",
        "        tempbuys.sort(key = lambda x: x[0], reverse = True)\n",
        "        #buy equal amount of the top 10\n",
        "      else:\n",
        "        #less than 1 year time period\n",
        "        continue\n",
        "    counter = 0\n",
        "    each_month.append(money)\n",
        "    print(money)\n",
        "    print(index)\n",
        "    for buy in tempbuys[:5]:\n",
        "          #how much money to alocate\n",
        "      buy_amount = money / (len(tempbuys[:5])-counter)\n",
        "      #print(len(tempbuys))\n",
        "      #print(buy_amount)\n",
        "          #how many shares per allocation\n",
        "      shares_amount = round(buy_amount / buy[2])\n",
        "          #add this buy to the buy\n",
        "      buys.append([shares_amount,buy[2],buy[1]])\n",
        "      #print(buys)\n",
        "          #take the money from the money account\n",
        "      money -= shares_amount * buy[2]\n",
        "      #commission\n",
        "      money -= 4\n",
        "      counter +=1 \n",
        "    counter = 0     \n",
        "     #delete temp buys\n",
        "  return  each_month,sum([x[0]*x[1] for x in buys]) + money"
      ],
      "execution_count": 0,
      "outputs": []
    },
    {
      "cell_type": "code",
      "metadata": {
        "id": "s_75aY58jBkb",
        "colab_type": "code",
        "colab": {}
      },
      "source": [
        "tickers = stocklist.Ticker"
      ],
      "execution_count": 0,
      "outputs": []
    },
    {
      "cell_type": "markdown",
      "metadata": {
        "id": "0gmhV4U2uRbv",
        "colab_type": "text"
      },
      "source": [
        "The results of using a 6 month momentum with 1.5 month rebalancing. Results are very good, but there might be something better if I knew why some months did not do good with the momentum, or why the 3 month momentum strategy didn't do as well then I could account for that."
      ]
    },
    {
      "cell_type": "code",
      "metadata": {
        "id": "bc4dPpUPj28R",
        "colab_type": "code",
        "colab": {
          "base_uri": "https://localhost:8080/",
          "height": 1000
        },
        "outputId": "48b1c892-cf45-4a13-944d-3c18490d88bd"
      },
      "source": [
        "\n",
        "\n",
        "returns = momentum_rotate(stockdata,1,10000,tickers)"
      ],
      "execution_count": 22,
      "outputs": [
        {
          "output_type": "stream",
          "text": [
            "10000\n",
            "2009-11-02\n",
            "10000\n",
            "2009-12-15\n",
            "10000\n",
            "2010-01-29\n",
            "10000\n",
            "2010-03-15\n",
            "10000\n",
            "2010-04-27\n",
            "10000\n",
            "2010-06-09\n",
            "10416.01\n",
            "2010-07-22\n",
            "11370.39\n",
            "2010-09-02\n",
            "12440.529999999999\n",
            "2010-10-15\n",
            "16385.754999999997\n",
            "2010-11-29\n",
            "17911.304999999997\n",
            "2011-01-11\n",
            "22389.795\n",
            "2011-02-24\n",
            "22922.315\n",
            "2011-04-07\n",
            "23160.885\n",
            "2011-05-20\n",
            "25405.434999999994\n",
            "2011-07-05\n",
            "23040.654999999995\n",
            "2011-08-16\n",
            "23150.644999999997\n",
            "2011-09-28\n",
            "22756.95\n",
            "2011-11-09\n",
            "21414.555\n",
            "2011-12-22\n",
            "24032.43\n",
            "2012-02-07\n",
            "25442.915\n",
            "2012-03-21\n",
            "27845.86\n",
            "2012-05-03\n",
            "23754.300000000003\n",
            "2012-06-15\n",
            "24239.665\n",
            "2012-07-30\n",
            "23934.899999999998\n",
            "2012-09-11\n",
            "24390.544999999995\n",
            "2012-10-23\n",
            "23313.614999999998\n",
            "2012-12-07\n",
            "24874.674999999996\n",
            "2013-01-23\n",
            "30564.934999999994\n",
            "2013-03-07\n",
            "29458.96499999999\n",
            "2013-04-19\n",
            "36164.11499999999\n",
            "2013-06-03\n",
            "40050.19499999999\n",
            "2013-07-16\n",
            "42084.634999999995\n",
            "2013-08-27\n",
            "45256.85\n",
            "2013-10-09\n",
            "47974.784999999996\n",
            "2013-11-20\n",
            "43402.83500000001\n",
            "2014-01-06\n",
            "51282.61\n",
            "2014-02-19\n",
            "47153.775\n",
            "2014-04-02\n",
            "47012.780000000006\n",
            "2014-05-15\n",
            "52323.34\n",
            "2014-06-27\n",
            "49842.34\n",
            "2014-08-11\n",
            "52629.7\n",
            "2014-09-23\n",
            "56577.2\n",
            "2014-11-04\n",
            "60204.509999999995\n",
            "2014-12-17\n",
            "68250.01\n",
            "2015-02-02\n",
            "77572.3\n",
            "2015-03-17\n",
            "78868.955\n",
            "2015-04-29\n",
            "83083.755\n",
            "2015-06-11\n",
            "83556.935\n",
            "2015-07-24\n",
            "85433.255\n",
            "2015-09-04\n",
            "85094.87999999999\n",
            "2015-10-19\n",
            "88474.88499999998\n",
            "2015-12-01\n",
            "78899.51999999997\n",
            "2016-01-14\n",
            "76447.49499999997\n",
            "2016-02-29\n",
            "82107.78999999996\n",
            "2016-04-12\n",
            "88702.12499999996\n",
            "2016-05-24\n",
            "100088.72499999996\n",
            "2016-07-07\n",
            "112543.36999999997\n",
            "2016-08-18\n",
            "117267.89999999995\n",
            "2016-09-30\n",
            "118834.39499999996\n",
            "2016-11-11\n",
            "145633.44999999998\n",
            "2016-12-27\n",
            "153561.455\n",
            "2017-02-09\n",
            "150339.5\n",
            "2017-03-24\n",
            "134386.65\n",
            "2017-05-08\n",
            "147114.885\n",
            "2017-06-20\n",
            "154606.785\n",
            "2017-08-02\n",
            "166803.605\n",
            "2017-09-14\n",
            "184615.55\n",
            "2017-10-26\n",
            "196277.925\n",
            "2017-12-08\n",
            "226529.51499999998\n",
            "2018-01-24\n",
            "233703.7\n",
            "2018-03-08\n",
            "229969.63000000003\n",
            "2018-04-20\n",
            "245196.92\n",
            "2018-06-04\n",
            "232756.6\n",
            "2018-07-17\n",
            "209986.54000000004\n",
            "2018-08-28\n",
            "203368.53000000006\n",
            "2018-10-10\n",
            "181190.78500000003\n",
            "2018-11-21\n",
            "180940.76500000004\n",
            "2019-01-08\n",
            "211577.01000000007\n",
            "2019-02-21\n",
            "229477.0800000001\n",
            "2019-04-04\n",
            "225151.56500000012\n",
            "2019-05-17\n",
            "227278.15500000012\n",
            "2019-07-01\n",
            "201054.1700000001\n",
            "2019-08-13\n",
            "197455.69000000012\n",
            "2019-09-25\n",
            "152192.8900000001\n",
            "2019-11-06\n"
          ],
          "name": "stdout"
        }
      ]
    },
    {
      "cell_type": "code",
      "metadata": {
        "id": "Qplb7PBMobgd",
        "colab_type": "code",
        "colab": {}
      },
      "source": [
        "returns[0]"
      ],
      "execution_count": 0,
      "outputs": []
    },
    {
      "cell_type": "code",
      "metadata": {
        "id": "EkMx5VD7osu8",
        "colab_type": "code",
        "colab": {
          "base_uri": "https://localhost:8080/",
          "height": 281
        },
        "outputId": "00b4bb2b-be6d-4b74-afdc-3e0397382b9e"
      },
      "source": [
        "import matplotlib.pyplot as plt\n",
        "%matplotlib inline\n",
        "fig = plt.figure()\n",
        "ax = plt.subplot(111)\n",
        "ax.bar([x for x in range(len(returns[0]))],returns[0], width=.2, color='r')\n",
        "ax.set_title('Value of $10,000 over 10 years S&P 500 Momentum 6 Months')\n",
        "ax.set_ylabel('Dollar Value')\n",
        "ax.set_xticks([x for x in range(0,85,8)])\n",
        "ax.set_xticklabels([x for x in range(2009,2020)])\n",
        "plt.savefig('Momentum6Mo.png')"
      ],
      "execution_count": 23,
      "outputs": [
        {
          "output_type": "display_data",
          "data": {
            "image/png": "[encoded data removed]",
            "text/plain": [
              "<Figure size 432x288 with 1 Axes>"
            ]
          },
          "metadata": {
            "tags": []
          }
        }
      ]
    },
    {
      "cell_type": "code",
      "metadata": {
        "id": "bzrMm-HlkAbM",
        "colab_type": "code",
        "colab": {
          "base_uri": "https://localhost:8080/",
          "height": 281
        },
        "outputId": "7e1f6fda-9ef0-48a5-cb0b-3327165f6b8e"
      },
      "source": [
        "fig = plt.figure()\n",
        "ax = plt.subplot(111)\n",
        "ax.bar([x for x in range(11)],[856,1100,1300,1450,1805,2081,2005,2200,2575,2790,3200])\n",
        "ax.set_title('Value over 10 years S&P 500 ')\n",
        "ax.set_ylabel('Dollar Value')\n",
        "ax.set_xticks([x for x in range(0,11)])\n",
        "ax.set_xticklabels([x for x in range(2009,2020)])\n",
        "plt.savefig('SP500.png')"
      ],
      "execution_count": 25,
      "outputs": [
        {
          "output_type": "display_data",
          "data": {
            "image/png": "[encoded data removed]",
            "text/plain": [
              "<Figure size 432x288 with 1 Axes>"
            ]
          },
          "metadata": {
            "tags": []
          }
        }
      ]
    },
    {
      "cell_type": "markdown",
      "metadata": {
        "id": "HK7Gs70auubA",
        "colab_type": "text"
      },
      "source": [
        "The third strategy uses the financials and the ratios. It has to find the nearest financials since each company reports financials on different days. The same with the ratios."
      ]
    },
    {
      "cell_type": "code",
      "metadata": {
        "id": "SyRj8qoU17m5",
        "colab_type": "code",
        "outputId": "088b4e71-6537-4e81-d3c9-34b750cfb98a",
        "colab": {
          "base_uri": "https://localhost:8080/",
          "height": 35
        }
      },
      "source": [
        "#find the nearest financial\n",
        "from datetime import datetime,timedelta\n",
        "def nearest_financial(ticker,day):\n",
        "  closest_delta = []\n",
        "  stock_day = day\n",
        "  for day in finances['date'+ticker]:\n",
        "    try:\n",
        "      day_datetime = datetime.strptime(day,'%Y-%m-%d')\n",
        "    except:\n",
        "      continue\n",
        "    #print(day_datetime)\n",
        "    diff = stock_day - day_datetime\n",
        "    if diff.days > -1 :\n",
        "      closest_delta.append([diff.days,day_datetime])\n",
        "    #print(stock_day - day_datetime)\n",
        "  try:\n",
        "    closest_delta.sort(key = lambda x: x[0])\n",
        "  except:\n",
        "    return 'No financials or none before the stock day'\n",
        "  if len(closest_delta)==0:\n",
        "    return 'No financials or none beefore the stock day'\n",
        "  return closest_delta[0][1]\n",
        "day = datetime(2009,10,18)\n",
        "nearest_financial('A',day)"
      ],
      "execution_count": 91,
      "outputs": [
        {
          "output_type": "execute_result",
          "data": {
            "text/plain": [
              "datetime.datetime(2009, 7, 31, 0, 0)"
            ]
          },
          "metadata": {
            "tags": []
          },
          "execution_count": 91
        }
      ]
    },
    {
      "cell_type": "code",
      "metadata": {
        "id": "Lx6SV0PrFRoX",
        "colab_type": "code",
        "colab": {}
      },
      "source": [
        "#finding the index of where the nearest financial is\n",
        "from datetime import datetime,timedelta\n",
        "day = datetime(2009,10,18)\n",
        "nearest_fin_day = nearest_financial('A',day)\n",
        "def index_nearest_financial(day,ticker):\n",
        "  #print(type(day))\n",
        "  #print(day)\n",
        "  #print(isinstance(day,str))\n",
        "  if type(day) =='str':\n",
        "    return 'error day is not a day is a string type'\n",
        "  if isinstance(day,str):\n",
        "    return 'error day is not a day is a string'\n",
        "  \n",
        "  for counter,i in enumerate(finances['date'+ticker]):\n",
        "  #nearest_fin_day = nearest_financial('A',day)\n",
        "    if datetime.strptime(i,'%Y-%m-%d') == day:\n",
        "      #print(i,day)\n",
        "      #print(counter)\n",
        "      return counter\n",
        "#index_nearest_financial('str','A')"
      ],
      "execution_count": 0,
      "outputs": []
    },
    {
      "cell_type": "code",
      "metadata": {
        "id": "ZmFjK7qSXvFD",
        "colab_type": "code",
        "outputId": "348352a2-52a8-4feb-d7ae-42835904323a",
        "colab": {
          "base_uri": "https://localhost:8080/",
          "height": 35
        }
      },
      "source": [
        "def index_certain_stock_column(ticker):\n",
        "  for counter, i in enumerate(finances.columns):\n",
        "    if i == 'date'+ticker:\n",
        "      return counter\n",
        "print(index_certain_stock_column('AAPL'))"
      ],
      "execution_count": 93,
      "outputs": [
        {
          "output_type": "stream",
          "text": [
            "100\n"
          ],
          "name": "stdout"
        }
      ]
    },
    {
      "cell_type": "code",
      "metadata": {
        "id": "yZpImTK0QFB3",
        "colab_type": "code",
        "outputId": "45d017f3-d990-4a65-84e0-8a6588290ada",
        "colab": {
          "base_uri": "https://localhost:8080/",
          "height": 35
        }
      },
      "source": [
        "def nearest_ratio(ticker,day):\n",
        "  closest_delta = []\n",
        "  stock_day = day\n",
        "  for day in ratios['date'+ticker]:\n",
        "    try:\n",
        "      day_datetime = datetime.strptime(day,'%Y-%m-%d')\n",
        "    except:\n",
        "      continue\n",
        "    #print(day_datetime)\n",
        "    diff = stock_day - day_datetime\n",
        "    if diff.days > -1 :\n",
        "      closest_delta.append([diff.days,day_datetime])\n",
        "    #print(stock_day - day_datetime)\n",
        "  try:\n",
        "    closest_delta.sort(key = lambda x: x[0])\n",
        "  except:\n",
        "    return 'No ratios or none before the stock day'\n",
        "  if len(closest_delta)==0:\n",
        "    return 'No ratios or none beefore the stock day'\n",
        "  return closest_delta[0][1]\n",
        "day = datetime(2018,11,18)\n",
        "print(nearest_ratio('A',day))"
      ],
      "execution_count": 88,
      "outputs": [
        {
          "output_type": "stream",
          "text": [
            "2018-10-31 00:00:00\n"
          ],
          "name": "stdout"
        }
      ]
    },
    {
      "cell_type": "code",
      "metadata": {
        "id": "B8kvoNCWPHpQ",
        "colab_type": "code",
        "outputId": "747b2fa6-1a85-4b0e-d7f8-a5b2a921ab7a",
        "colab": {
          "base_uri": "https://localhost:8080/",
          "height": 35
        }
      },
      "source": [
        "#make a nearest ratios function\n",
        "from datetime import datetime,timedelta\n",
        "day = datetime(2018,11,18)\n",
        "def index_nearest_ratio(day,ticker):\n",
        "  for counter,i in enumerate(ratios['date'+ticker]):\n",
        "  #nearest_fin_day = nearest_financial('A',day)\n",
        "    if datetime.strptime(i,'%Y-%m-%d') == day:\n",
        "      #print(i,day)\n",
        "      #print(counter)\n",
        "      return counter\n",
        "print(index_nearest_ratio(nearest_ratio('A',day),'A'))"
      ],
      "execution_count": 89,
      "outputs": [
        {
          "output_type": "stream",
          "text": [
            "0\n"
          ],
          "name": "stdout"
        }
      ]
    },
    {
      "cell_type": "code",
      "metadata": {
        "id": "LJn0-oW0RiOh",
        "colab_type": "code",
        "outputId": "2561f6d0-25ff-43bb-e812-00b01be4a49d",
        "colab": {
          "base_uri": "https://localhost:8080/",
          "height": 52
        }
      },
      "source": [
        "def index_certain_ratio_column(ticker):\n",
        "  for counter, i in enumerate(ratios.columns):\n",
        "    if i == 'date'+ticker:\n",
        "      return counter\n",
        "print(index_certain_ratio_column('AAL'))\n",
        "ratios.iloc[0,61]\n"
      ],
      "execution_count": 90,
      "outputs": [
        {
          "output_type": "stream",
          "text": [
            "61\n"
          ],
          "name": "stdout"
        },
        {
          "output_type": "execute_result",
          "data": {
            "text/plain": [
              "'2018-12-31'"
            ]
          },
          "metadata": {
            "tags": []
          },
          "execution_count": 90
        }
      ]
    },
    {
      "cell_type": "markdown",
      "metadata": {
        "id": "WBdo2OhSvxPR",
        "colab_type": "text"
      },
      "source": [
        "This finds the return given a certain stock and amount of time."
      ]
    },
    {
      "cell_type": "code",
      "metadata": {
        "id": "Sn35J4qHHCuj",
        "colab_type": "code",
        "colab": {}
      },
      "source": [
        "from datetime import datetime,timedelta\n",
        "def return_percent(sell,ticker,amount_of_days):\n",
        "  closest = []\n",
        "  try:\n",
        "    stockdata['date'+ticker]\n",
        "  except:\n",
        "    return 0\n",
        "  for counter,i in enumerate(stockdata['date'+ticker]):\n",
        "    try:\n",
        "      current = datetime.strptime(i,'%Y-%m-%d')\n",
        "    except:\n",
        "      continue\n",
        "      #find the closest price to the sell date\n",
        "    diff = sell - current\n",
        "    abs_diff = diff.days - amount_of_days\n",
        "    if diff.days < 0 :\n",
        "      break\n",
        "    if abs_diff < 0 :\n",
        "      closest.append([stockdata['close'+ticker][counter],diff.days,100,current])\n",
        "    else:\n",
        "      closest.append([stockdata['close'+ticker][counter],diff.days,abs_diff,current])\n",
        "  closest.sort(key = lambda x : x[1])\n",
        "  #print(closest)\n",
        "  try:\n",
        "    sell_price = closest[0][0]\n",
        "  except:\n",
        "    return 0\n",
        "  #print(sell_price)\n",
        "  closest.sort(key = lambda x :x[2])\n",
        "  #print(closest)\n",
        "  buy_price = closest[0][0]\n",
        "  #print(buy_price)\n",
        "  return (sell_price -buy_price) / buy_price"
      ],
      "execution_count": 0,
      "outputs": []
    },
    {
      "cell_type": "code",
      "metadata": {
        "id": "f_qfkq50mIrV",
        "colab_type": "code",
        "colab": {}
      },
      "source": [
        "from sklearn.metrics import accuracy_score"
      ],
      "execution_count": 0,
      "outputs": []
    },
    {
      "cell_type": "markdown",
      "metadata": {
        "id": "oq0Lftziv6BC",
        "colab_type": "text"
      },
      "source": [
        "This combines the previous functions together"
      ]
    },
    {
      "cell_type": "code",
      "metadata": {
        "id": "KNGVPuuXqnUt",
        "colab_type": "code",
        "colab": {}
      },
      "source": [
        "#get the 4 month later of financials and ratios so that financials will be somewhat different\n",
        "def get_finance_and_ratio(day):\n",
        "  rows_list = []\n",
        "  for i in stocklist.Ticker:\n",
        "    try:\n",
        "      f = finances.iloc[index_nearest_financial(nearest_financial(i,day),i),index_certain_stock_column(i)+1:index_certain_stock_column(i)+32].to_list()\n",
        "    except:\n",
        "      f = [0]\n",
        "    rows_list.append(f)\n",
        "  df = pd.DataFrame(rows_list)\n",
        "  #print(len(df))\n",
        "  df.columns = finances.columns[2:33]\n",
        "  rows_list = []\n",
        "  for i in stocklist.Ticker:\n",
        "    try:\n",
        "      f = ratios.iloc[index_nearest_ratio(nearest_ratio(i,day),i),index_certain_ratio_column(i)+1:index_certain_ratio_column(i)+60].to_list()\n",
        "    except:\n",
        "      f = [0]\n",
        "    rows_list.append(f)\n",
        "  rf = pd.DataFrame(rows_list)\n",
        "  cols = ratios.columns[1:61]\n",
        "  cols = [x[:-1] for x in cols]\n",
        "  rf.columns = cols[1:]\n",
        "  #print(len(rf))\n",
        "  x = pd.concat([df,rf],axis=1)\n",
        "  #print(len(x))\n",
        "  #idk why this is wrong\n",
        "  #for i in range(500):\n",
        "    #if type(x['Net Income ComA'][i]) == numpy.float64:\n",
        "      #continue\n",
        "    #else:\n",
        "      #x['Net Income ComA'][i] = 0\n",
        "    #if type(x['Preferred DividendsA'][i]) == numpy.float64:\n",
        "      #continue\n",
        "    #else:\n",
        "      #x['Preferred DividendsA'][i] = 0\n",
        "  #x.fillna(0,inplace=True)\n",
        "  return x\n",
        "#tet = get_finance_and_ratio(datetime(2010,2,1))\n",
        "#print(tet)"
      ],
      "execution_count": 0,
      "outputs": []
    },
    {
      "cell_type": "markdown",
      "metadata": {
        "id": "dQqQL3V4v_7A",
        "colab_type": "text"
      },
      "source": [
        "This finds the returns and then returns a list of 0's and 1's determined by if the return is larger than the minimum return target."
      ]
    },
    {
      "cell_type": "code",
      "metadata": {
        "id": "JIZ5AArEwT2m",
        "colab_type": "code",
        "colab": {}
      },
      "source": [
        "def y_returns(day,percent):\n",
        "  returns = []\n",
        "  for i in stocklist.Ticker:\n",
        "    returns.append(return_percent(day,i,365))\n",
        "  returns = [x if str(x) != 'nan' else 0 for x in returns]\n",
        "  returns = [1 if x >percent else 0 for x in returns]\n",
        "  return returns"
      ],
      "execution_count": 0,
      "outputs": []
    },
    {
      "cell_type": "markdown",
      "metadata": {
        "id": "QdOxhvWewaYu",
        "colab_type": "text"
      },
      "source": [
        "This finds the returns in raw return format."
      ]
    },
    {
      "cell_type": "code",
      "metadata": {
        "id": "SCJvYZZqVSTV",
        "colab_type": "code",
        "colab": {}
      },
      "source": [
        "def percent_returns(day,percent):\n",
        "  returns = []\n",
        "  for i in stocklist.Ticker:\n",
        "    returns.append(return_percent(day,i,30))\n",
        "  returns = [x if str(x) != 'nan' else 0 for x in returns]\n",
        "  return returns"
      ],
      "execution_count": 0,
      "outputs": []
    },
    {
      "cell_type": "markdown",
      "metadata": {
        "id": "s-SjSpMVwkNs",
        "colab_type": "text"
      },
      "source": [
        "This is the return given the certain percent return target strategy and also it calculates the accuracy of the random forest predictions only the ones that were classified as 1 or a buy."
      ]
    },
    {
      "cell_type": "code",
      "metadata": {
        "id": "wdUdYabZz79H",
        "colab_type": "code",
        "colab": {}
      },
      "source": [
        "def results(preds,returns,percent):\n",
        "  results = []\n",
        "  for j,i in enumerate(preds):\n",
        "    if i == 1:\n",
        "      results.append(returns[j])\n",
        "  metpercenttarget = [0 if x < percent else 1 for x in results]\n",
        "  if len(results) == 0 :\n",
        "    return 0,0\n",
        "  return sum(results)/len(results),metpercenttarget\n",
        "#results.sort(reverse=True)\n",
        "#results"
      ],
      "execution_count": 0,
      "outputs": []
    },
    {
      "cell_type": "code",
      "metadata": {
        "id": "uryT2d2sxGpb",
        "colab_type": "code",
        "colab": {}
      },
      "source": [
        "#accuracy_score(returns,newpreds)\n",
        "import pandas as pd\n",
        "from sklearn.metrics import accuracy_score\n",
        "from sklearn.ensemble import RandomForestClassifier\n"
      ],
      "execution_count": 0,
      "outputs": []
    },
    {
      "cell_type": "markdown",
      "metadata": {
        "id": "Mn811b77w03l",
        "colab_type": "text"
      },
      "source": [
        "This combines all the other functions all into one function."
      ]
    },
    {
      "cell_type": "code",
      "metadata": {
        "id": "D6DEVVnBj-sk",
        "colab_type": "code",
        "colab": {}
      },
      "source": [
        "def random_forest(start,percent):\n",
        "  accuracy_list = []\n",
        "  money = 10000\n",
        "  days = pd.date_range(start='1/1/2018', periods=24, freq='3M')\n",
        "  counter = 0\n",
        "  \n",
        "  for element in range(1,len(days)):\n",
        "    #get the first training data or random forest\n",
        "      #print('past')\n",
        "    past = get_finance_and_ratio(days[element-1])\n",
        "    past.fillna(0,inplace=True)\n",
        "    training = get_finance_and_ratio(days[element])\n",
        "    training.fillna(0,inplace=True)\n",
        "    momentum = training.gt(past)\n",
        "    train = pd.concat([training,momentum],axis=1)\n",
        "\n",
        "      #print('filla na')\n",
        "    #make the random forest\n",
        "    rad = RandomForestClassifier(n_estimators=150,max_depth=9,min_samples_split=25)\n",
        "      #print('random')\n",
        "    #get the Y train data from future month\n",
        "    y = y_returns(days[element+1],percent)\n",
        "      #print(y)\n",
        "    #print('gpt ')\n",
        "    #fit the random forest\n",
        "    rad.fit(train,y)\n",
        "    importanecs = rad.feature_importances_\n",
        "    #print(importanecs[:10])\n",
        "    #get future test data\n",
        "    future = get_finance_and_ratio(days[element+1])\n",
        "    future.fillna(0,inplace=True)\n",
        "    momentum = future.gt(training)\n",
        "    #print('moment')\n",
        "    #print(momentum.shape)\n",
        "    #print(future.shape)\n",
        "    test = pd.concat([future,momentum],axis=1)\n",
        "    #predict future with test data\n",
        "    preds =rad.predict(test)\n",
        "      #print('test')\n",
        "    #find accuracy overall\n",
        "    returns = y_returns(days[element+2],percent)\n",
        "    accuracy = accuracy_score(returns,preds)\n",
        "\n",
        "    #find the return percent only for classified winning stocks\n",
        "    returns_percent = percent_returns(days[element+2],percent)\n",
        "    result = results(preds,returns_percent,percent)\n",
        "    print(result)\n",
        "    print(preds)\n",
        "    print(returns_percent)\n",
        "    try:\n",
        "      accuracy_picked = sum(result[1]) / len(result[1])\n",
        "    except:\n",
        "      accuracy_picked = 0\n",
        "    returns_picked = result[0]\n",
        "    accuracy_list.append([accuracy,accuracy_picked,returns_picked,importanecs])\n",
        "    counter +=1\n",
        "    money = money * (1+returns_picked)\n",
        "    print(accuracy,'% of accurate preds')\n",
        "    print(accuracy_picked,'% of accuracy picked')\n",
        "    print(returns_picked,'return monthly picked')\n",
        "    print(money,'money counter')\n",
        "    print(days[element])\n",
        "    if counter > 30:\n",
        "      break\n",
        "  return accuracy_list\n",
        "rand_test = random_forest('tao;',0.2)"
      ],
      "execution_count": 0,
      "outputs": []
    },
    {
      "cell_type": "code",
      "metadata": {
        "id": "eA0IOwWT4xgk",
        "colab_type": "code",
        "colab": {}
      },
      "source": [
        ""
      ],
      "execution_count": 0,
      "outputs": []
    }
  ]
}